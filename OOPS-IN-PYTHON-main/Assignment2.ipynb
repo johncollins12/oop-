{
 "cells": [
  {
   "cell_type": "code",
   "execution_count": 4,
   "metadata": {},
   "outputs": [
    {
     "name": "stdout",
     "output_type": "stream",
     "text": [
      "0\n",
      "2\n",
      "4\n",
      "6\n",
      "8\n",
      "10\n"
     ]
    }
   ],
   "source": [
    "#A for loop that counts from 0 - 10 and prints even Numbers\n",
    "# Create a for loop and give a range of 0 to 10\n",
    "for i in range(0,11):\n",
    "    # Use an if statement to print only even numbers\n",
    "    if i%2==0:\n",
    "      print(i)\n",
    "\n",
    "\n",
    "\n"
   ]
  },
  {
   "cell_type": "code",
   "execution_count": 7,
   "metadata": {},
   "outputs": [
    {
     "name": "stdout",
     "output_type": "stream",
     "text": [
      "2\n",
      "4\n",
      "6\n",
      "8\n",
      "10\n"
     ]
    }
   ],
   "source": [
    "# A while loop that prints even numbers from the First 10 numbers\n",
    "x=1\n",
    "while x<11:\n",
    "    # Use the if statement to validate the X values to see if they are divisible by 2 with out a remainder\n",
    "    if x%2==0:\n",
    "        # if the x values are divisible by 2 without any remainder then they will be printed\n",
    "        print(x)\n",
    "    x=x+1"
   ]
  },
  {
   "cell_type": "code",
   "execution_count": 1,
   "metadata": {},
   "outputs": [
    {
     "name": "stdout",
     "output_type": "stream",
     "text": [
      "Timothy.ddumba"
     ]
    }
   ],
   "source": [
    "# A programme that breaks when it reaches the @ symbol in an email\n",
    "# Create a for loop \n",
    "for ch in \"Timothy.ddumba@guild.org\":\n",
    "    # Use an if statement to check for the @ symbol in the email\n",
    "    if ch==\"@\":\n",
    "        # This will skip the @ symbol once it reaches it\n",
    "        break\n",
    "    print(ch ,end=\"\")\n",
    "        \n",
    "        "
   ]
  },
  {
   "cell_type": "code",
   "execution_count": 8,
   "metadata": {},
   "outputs": [
    {
     "name": "stdout",
     "output_type": "stream",
     "text": [
      "X\n",
      "1\n",
      "6\n",
      "5\n",
      "X\n",
      "3\n",
      "1\n",
      "8\n",
      "X\n",
      "6\n",
      "5\n",
      "1\n",
      "X\n"
     ]
    }
   ],
   "source": [
    "\n",
    "# A programme to replace 0 with X in using a for loop, if statement and Continue \n",
    "for ch in \"0165031806510\":\n",
    "    # Use an if statement to check for \"0\" for the string given and later replace it with x\n",
    "    if ch==\"0\":\n",
    "        print(\"X\")\n",
    "        # Use the Continue iterator to resume checking for thr O in the sequence\n",
    "        continue\n",
    "    print(ch)\n",
    "    "
   ]
  },
  {
   "cell_type": "code",
   "execution_count": 22,
   "metadata": {},
   "outputs": [
    {
     "name": "stdout",
     "output_type": "stream",
     "text": [
      "[1, 2, 2, 4, 5]\n",
      "The size of the List is: 4\n",
      "Hat= [1, 2, 2, 4]\n"
     ]
    }
   ],
   "source": [
    "# Hatlist--------\n",
    "# Create a hat list using the Square Brackets Notations\n",
    "hat=[1,2,3,4,5]\n",
    "#Relace the middle value by first defining its index\n",
    "hat[2]=int(input(\"Replace\"))\n",
    "# Use the Pop() function to remove the last vale from the List and this as well uses the Negative indexing \n",
    "print(hat)\n",
    "hat.pop(-1)\n",
    "# We shall use the Len key word to check for the Length of the list after removing one Value \n",
    "print(\"The size of the List is:\",len(hat))\n",
    "# We shall print the whole list after checking the Length and also removing the Values\n",
    "print(\"Hat=\",hat)"
   ]
  },
  {
   "cell_type": "code",
   "execution_count": 2,
   "metadata": {},
   "outputs": [
    {
     "name": "stdout",
     "output_type": "stream",
     "text": [
      "1990 ->Failed\n",
      "2000 ->OK\n",
      "2016 ->OK\n",
      "1987 ->Failed\n"
     ]
    }
   ],
   "source": [
    "\n",
    "# 6\n",
    "# Create a function is year_leap\n",
    "def is_year_leap(year):\n",
    "    # Check year using an if year is leap or\n",
    "    if year // 4:\n",
    "        # This will return Booleans either false or true\n",
    "        return True\n",
    "    else:\n",
    "        return False\n",
    "\n",
    "# Create a main function to enable you organize your work\n",
    "def main():\n",
    "    test_data = [1990,2000,2016,1987]\n",
    "    test_results = [False,True,True,False]\n",
    "\n",
    "    for i in range(len(test_data)):\n",
    "        yr = test_data[i]\n",
    "        print(yr,\"->\",end=\"\")\n",
    "        result = is_year_leap(yr)\n",
    "        if result == test_results[i]:\n",
    "            print(\"OK\")\n",
    "        else:\n",
    "            print(\"Failed\")\n",
    "main()"
   ]
  },
  {
   "cell_type": "code",
   "execution_count": 1,
   "metadata": {},
   "outputs": [
    {
     "name": "stdout",
     "output_type": "stream",
     "text": [
      "\n",
      " name :  Mukasa \n",
      " weight :  20.0 \n",
      " birthdate :  2002 \n",
      " age 20\n"
     ]
    }
   ],
   "source": [
    "# Create a function and name it person \n",
    "def person(name,birth_year ,weight):\n",
    "    age = 2022-birth_year\n",
    "    if name == \"\": # if no name has been entered\n",
    "        print(\"\\n name : name\" ,\"\\n weight : \",weight, \"\\n birthdate : \",birth_year)\n",
    "        print(\"\\n age\" , age)\n",
    "    else:\n",
    "        print(\"\\n name : \",name ,\"\\n weight : \",weight, \"\\n birthdate : \",birth_year,\"\\n age\" , age)\n",
    "\n",
    "def main():\n",
    "    name = input(\"Enter the name : \") #allows a user to enter the name\n",
    "    weight = float(input(\"Enter the weight : \"))\n",
    "    birth_year = 2002 # taking all users to have the same birthdate\n",
    "    person(name,birth_year ,weight) # void function\n",
    "main()"
   ]
  }
 ],
 "metadata": {
  "kernelspec": {
   "display_name": "Python 3.7.9 64-bit (microsoft store)",
   "language": "python",
   "name": "python3"
  },
  "language_info": {
   "codemirror_mode": {
    "name": "ipython",
    "version": 3
   },
   "file_extension": ".py",
   "mimetype": "text/x-python",
   "name": "python",
   "nbconvert_exporter": "python",
   "pygments_lexer": "ipython3",
   "version": "3.7.9"
  },
  "orig_nbformat": 4,
  "vscode": {
   "interpreter": {
    "hash": "a67075ba25b04be2f08e615617a843c0f6dec76c2e6160850da6f0538e58f149"
   }
  }
 },
 "nbformat": 4,
 "nbformat_minor": 2
}
